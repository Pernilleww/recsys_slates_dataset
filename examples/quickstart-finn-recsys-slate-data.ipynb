{
 "cells": [
  {
   "cell_type": "markdown",
   "metadata": {},
   "source": [
    "# Quick start with the FINN.no recsys slate dataset\n",
    "[![Open In Colab](https://colab.research.google.com/assets/colab-badge.svg)](https://colab.research.google.com/github/finn-no/recsys-slates-dataset/blob/main/examples/quickstart-finn-recsys-slate-data.ipynb)\n",
    "This notebook gives an introduction to the dataset released with the paper [Dynamic Slate Recommendation with Gated Recurrent Units and Thompson Sampling](https://arxiv.org/abs/2104.15046). \n",
    "It is compatible with google colab, and can be run interactive by using the \"Open in Colab\"-button."
   ]
  },
  {
   "cell_type": "markdown",
   "metadata": {},
   "source": [
    "## Install the recsys_slates_dataset pip package\n"
   ]
  },
  {
   "cell_type": "code",
   "execution_count": null,
   "metadata": {},
   "outputs": [],
   "source": [
    "!pip install recsys_slates_dataset -q"
   ]
  },
  {
   "cell_type": "markdown",
   "metadata": {},
   "source": [
    "## Download and load dataloaders that are ready to use\n",
    "It is possible to directly load the dataset as a pytorch dataloader which includes the same dataset splits etc as in the original paper.\n",
    "Use the `load_dataloaders` function in the `dataset_torch` module. It has the following options:\n",
    "\n",
    "| Argument       | Description  |\n",
    "| ------------- |-----:|\n",
    "| batch_size       | Number of unique users sampled in each batch |\n",
    "| split_trainvalid | Ratio of full dataset dedicated to train <br> (val/test is split evenly among the rest) |\n",
    "| t_testsplit       | For users in valid and test, <br> how many interactions should belong to training set |\n",
    "| sample_uniform_action | If this is True, the exposures in the dataset <br> are sampled as in the `all-item likelihood` (see paper) |\n",
    "\n",
    "The outputs of the function are `ind2val`, `itemattr` and a dictionary with pytorch dataloaders for training, validation and test."
   ]
  },
  {
   "cell_type": "code",
   "execution_count": null,
   "metadata": {},
   "outputs": [
    {
     "name": "stderr",
     "output_type": "stream",
     "text": [
      "2021-07-03 21:13:13,672 Download data if not in data folder..\n",
      "2021-07-03 21:13:13,676 Downloading data.npz\n",
      "2021-07-03 21:13:13,691 Downloading ind2val.json\n",
      "2021-07-03 21:13:13,694 Downloading itemattr.npz\n",
      "2021-07-03 21:13:13,698 Done downloading all files.\n",
      "2021-07-03 21:13:13,707 Load data..\n",
      "2021-07-03 21:13:53,963 Loading dataset with slate size=torch.Size([2277645, 20, 25]) and uniform candidate sampling=False\n",
      "2021-07-03 21:13:54,179 In train: num_users: 2277645, num_batches: 2225\n",
      "2021-07-03 21:13:54,187 In valid: num_users: 113882, num_batches: 112\n",
      "2021-07-03 21:13:54,192 In test: num_users: 113882, num_batches: 112\n"
     ]
    },
    {
     "name": "stdout",
     "output_type": "stream",
     "text": [
      "Dictionary containing the dataloaders:\n",
      "{'train': <torch.utils.data.dataloader.DataLoader object at 0x7fcd88da59a0>, 'valid': <torch.utils.data.dataloader.DataLoader object at 0x7fcd88dc6e80>, 'test': <torch.utils.data.dataloader.DataLoader object at 0x7fcd88dc6550>}\n"
     ]
    }
   ],
   "source": [
    "import torch\n",
    "from recsys_slates_dataset import dataset_torch\n",
    "ind2val, itemattr, dataloaders = dataset_torch.load_dataloaders(data_dir=\"dat\")\n",
    "\n",
    "print(\"Dictionary containing the dataloaders:\")\n",
    "print(dataloaders)"
   ]
  },
  {
   "cell_type": "markdown",
   "metadata": {},
   "source": [
    "### Batches\n",
    "The batches are split by userId and provides the necessary information for training. We will explain each element below:"
   ]
  },
  {
   "cell_type": "code",
   "execution_count": null,
   "metadata": {},
   "outputs": [
    {
     "name": "stdout",
     "output_type": "stream",
     "text": [
      "userId torch.Size([1024])\n",
      "click torch.Size([1024, 20])\n",
      "click_idx torch.Size([1024, 20])\n",
      "slate_lengths torch.Size([1024, 20])\n",
      "slate torch.Size([1024, 20, 25])\n",
      "interaction_type torch.Size([1024, 20])\n",
      "mask_type torch.Size([1024, 20])\n"
     ]
    }
   ],
   "source": [
    "batch = next(iter(dataloaders['train']))\n",
    "for key, val in batch.items():\n",
    "    print(key, val.size())"
   ]
  },
  {
   "cell_type": "markdown",
   "metadata": {},
   "source": [
    "### Interaction data (`data.npz`)\n",
    "The dataset consist of 2.2M unique users that have interacted up to 20 times with the internet platform platform, and has been exposed to up to 25 items at each interaction.\n",
    "`data.npz` contains all the slate and click data, and the two main arrays are `click` and `slate`. \n",
    "The convention of the dimension of the arrays are that the first dimension is per user, second dimension is time and third dimension is the presented slate.\n",
    "The full description of all array are as follows:\n",
    "\n",
    "| Name        | Dimension           | Description  |\n",
    "| ------------- |:-------------:| -----:|\n",
    "| slate      | [userId, interaction num, slate pos]| the presented slates to the users; |\n",
    "| click      | [userId, interaction num]      | items clicked by the users in each slate |\n",
    "| interaction_type      | [userId, interaction num]      | type of interaction the user had with the platform (search or recommendation) |\n",
    "| click_idx      | [userId, interaction num]      | Auxillary data: The position of the click in the `slate` dataframe (integer from 0-24). <br> Useful for e.g. categorical likelihoods |\n",
    "| slate_lengths      | [userId, interaction num]      | Auxillary data: the actual length of the slate. <br> Same as 25-`\"number of pad index in action\"` |\n",
    "\n",
    "\n",
    "\n"
   ]
  },
  {
   "cell_type": "code",
   "execution_count": null,
   "metadata": {},
   "outputs": [
    {
     "name": "stdout",
     "output_type": "stream",
     "text": [
      "userId : \t torch.Size([2277645])\n",
      "click : \t torch.Size([2277645, 20])\n",
      "click_idx : \t torch.Size([2277645, 20])\n",
      "slate_lengths : \t torch.Size([2277645, 20])\n",
      "slate : \t torch.Size([2277645, 20, 25])\n",
      "interaction_type : \t torch.Size([2277645, 20])\n",
      "mask_type : \t torch.Size([2277645, 20])\n"
     ]
    }
   ],
   "source": [
    "# Load interaction data\n",
    "dat = dataloaders['train'].dataset.data\n",
    "\n",
    "# Print dimensions of all arrays:\n",
    "for key, val in dat.items():\n",
    "  print(f\"{key} : \\t {val.size()}\")"
   ]
  },
  {
   "cell_type": "markdown",
   "metadata": {},
   "source": [
    "#### Example: Get one interaction\n",
    "Get the presented slate + click for user 5 at interaction number 3"
   ]
  },
  {
   "cell_type": "code",
   "execution_count": null,
   "metadata": {},
   "outputs": [
    {
     "name": "stdout",
     "output_type": "stream",
     "text": [
      "Slate:\n",
      "tensor([     1, 638995, 638947, 638711, 637590, 637930, 638894,      0,      0,\n",
      "             0,      0,      0,      0,      0,      0,      0,      0,      0,\n",
      "             0,      0,      0,      0,      0,      0,      0])\n",
      " \n",
      "Click:\n",
      "tensor(637590)\n",
      "Type of interaction: (1 implies search, see ind2val file)\n",
      "tensor(1)\n"
     ]
    }
   ],
   "source": [
    "print(\"Slate:\")\n",
    "print(dat['slate'][5,3])\n",
    "print(\" \")\n",
    "print(\"Click:\")\n",
    "print(dat['click'][5,3])\n",
    "print(\"Type of interaction: (1 implies search, see ind2val file)\")\n",
    "print(dat['interaction_type'][5,3])"
   ]
  },
  {
   "cell_type": "markdown",
   "metadata": {},
   "source": [
    "From the above extraction we can see that user 5 at interaction number 3 was presented with a total of 7 items: 6 \"real\" items and the \"no-click\" item that has index 1. The remaining positions in the array is padded with the index 0.\n",
    "The \"no-click\" item is always present in the slates, as the user has the alternative not to click on any of the presented items in the slate.\n",
    "Further, we see that the user clicked on the 4'th item in the slate.\n",
    "The slate length and the click position can be found by the following auxillary arrays:"
   ]
  },
  {
   "cell_type": "code",
   "execution_count": null,
   "metadata": {},
   "outputs": [
    {
     "name": "stdout",
     "output_type": "stream",
     "text": [
      "Click_idx:\n",
      "tensor(4)\n",
      "Slate lengths:\n",
      "tensor(7)\n"
     ]
    }
   ],
   "source": [
    "print(\"Click_idx:\")\n",
    "print(dat['click_idx'][5,3])\n",
    "print(\"Slate lengths:\")\n",
    "print(dat['slate_lengths'][5,3])"
   ]
  },
  {
   "cell_type": "markdown",
   "metadata": {},
   "source": [
    "### Index to item (`ind2val.json`)\n",
    "This files contains mapping from indices to values for the attributes category and interaction_type.\n",
    "\n",
    "| Name         | Length           | Description  |\n",
    "| -------------|:----:| -----:|\n",
    "| category     | 290  | Mapping from the category index to a text string that describes the category. <br> The category value is a text string that describes the category and location of the group |\n",
    "| interaction_type  | 3    | Indices of whether the presented slate originated from search or recommendations|"
   ]
  },
  {
   "cell_type": "markdown",
   "metadata": {},
   "source": [
    "#### Example `ind2val`\n",
    "We print out the first elements of each index.\n",
    "For example, we see that category 3 is \"BAP,antiques,Trøndelag\" which implies the category contains antiques sold in the county of Trøndelag."
   ]
  },
  {
   "cell_type": "code",
   "execution_count": null,
   "metadata": {},
   "outputs": [
    {
     "name": "stdout",
     "output_type": "stream",
     "text": [
      " \n",
      "category first entries:\n",
      "0: PAD\n",
      "1: noClick\n",
      "2: <UNK>\n",
      "3: BAP,antiques,Trøndelag\n",
      "4: MOTOR,,Sogn og Fjordane\n",
      " \n",
      "interaction_type first entries:\n",
      "1: search\n",
      "2: rec\n",
      "0: <UNK>\n"
     ]
    }
   ],
   "source": [
    "for key, val in ind2val.items():\n",
    "  print(\" \")\n",
    "  print(f\"{key} first entries:\")\n",
    "  for idx, name in val.items():\n",
    "    print(f\"{idx}: {val[idx]}\")\n",
    "    if idx >3:\n",
    "      break"
   ]
  },
  {
   "cell_type": "markdown",
   "metadata": {},
   "source": [
    "### Item attributes (`itemattr.npz`)\n",
    "A numpy array that encodes the category of each item.\n",
    "\n",
    "| Name        | Dimension           | Description  |\n",
    "| ------------- |:-------------:| -----:|\n",
    "| category      | [itemId] | The group that each item belong to |\n"
   ]
  },
  {
   "cell_type": "code",
   "execution_count": null,
   "metadata": {},
   "outputs": [
    {
     "name": "stdout",
     "output_type": "stream",
     "text": [
      "category : (1311775,)\n",
      "\n",
      "The full dictionary:\n"
     ]
    },
    {
     "data": {
      "text/plain": [
       "{'category': array([  0.,   1.,   2., ..., 289., 289., 289.])}"
      ]
     },
     "execution_count": null,
     "metadata": {},
     "output_type": "execute_result"
    }
   ],
   "source": [
    "for key, val in itemattr.items():\n",
    "  print(f\"{key} : {val.shape}\")\n",
    "\n",
    "print(\"\\nThe full dictionary:\")\n",
    "itemattr"
   ]
  },
  {
   "cell_type": "markdown",
   "metadata": {},
   "source": [
    "#### Example `itemattr`\n",
    "Get the category of the clicked item above (from user 5, interaction number 3)"
   ]
  },
  {
   "cell_type": "code",
   "execution_count": null,
   "metadata": {},
   "outputs": [
    {
     "name": "stdout",
     "output_type": "stream",
     "text": [
      "Find the itemId that were click by user 5 in interaction 3:\n",
      "itemId: [tensor(637590)]\n",
      "\n",
      "Find the category index of that item in itemattr:\n",
      "Category index: [135.]\n",
      "\n",
      "Finally, find the category name by using ind2val:\n",
      "Category name: REAL_ESTATE,,Oppland\n"
     ]
    }
   ],
   "source": [
    "print(\"Find the itemId that were click by user 5 in interaction 3:\")\n",
    "itemId = [dat['click'][5,3]]\n",
    "print(f\"itemId: {itemId}\")\n",
    "\n",
    "print(\"\\nFind the category index of that item in itemattr:\")\n",
    "cat_idx = itemattr['category'][itemId]\n",
    "print(f\"Category index: {cat_idx}\")\n",
    "\n",
    "print(\"\\nFinally, find the category name by using ind2val:\")\n",
    "cat_name = ind2val['category'][cat_idx.item()]\n",
    "print(f\"Category name: {cat_name}\")"
   ]
  },
  {
   "cell_type": "markdown",
   "metadata": {},
   "source": [
    "## Print some statistics about the dataset"
   ]
  },
  {
   "cell_type": "code",
   "execution_count": null,
   "metadata": {},
   "outputs": [
    {
     "name": "stdout",
     "output_type": "stream",
     "text": [
      "Ratio of no clicks: 0.24\n",
      "Average slate length: 11.14\n",
      "Ratio of slates that are recommendations: 0.303\n",
      "Average number of interactions per user: 16.43\n"
     ]
    }
   ],
   "source": [
    "print(f\"Ratio of no clicks: {(dat['click']==1).sum() / (dat['click']!=0).sum():.2f}\")\n",
    "print(f\"Average slate length: {(dat['slate_lengths'][dat['slate_lengths']!=0]).float().mean():.2f}\")\n",
    "print(f\"Ratio of slates that are recommendations: {(dat['interaction_type']==2).sum() / (dat['interaction_type']!=0).sum():.3f}\")\n",
    "print(f\"Average number of interactions per user: {(dat['click']!=0).sum(-1).float().mean():.2f}\")"
   ]
  },
  {
   "cell_type": "markdown",
   "metadata": {},
   "source": [
    "### Masking of train/test/val\n",
    "Each batch returns a dictionary of pytorch tensors with data, and contains the usual data fields described above.\n",
    "In addition, it contains a `mask_type` tensor which explains whether each click belongs to _train_, _valid_ or _test_.\n",
    "It is of the same dimensionality as the click tensor (`num users * num interactions`).\n",
    "This is because we want to return the full sequence of interactions so that e.g. the test set can use the first clicks of the user (which belongs to the training set) to build a user profile.\n",
    "The mask is defined in the following way:\n",
    "\n",
    "```\n",
    "mask2split = {\n",
    "    0 : 'PAD',\n",
    "    1 : 'train',\n",
    "    2 : 'valid',\n",
    "    3 : 'test'\n",
    "}\n",
    "```\n",
    "If the mask equals zero it means that the length of the user sequence was shorter than this index.\n",
    "The modeler has to take care to not train on elements in the validation or test dataset.\n",
    "Typically this can be done by masking all losses that does not originate from the training dataset:"
   ]
  },
  {
   "cell_type": "code",
   "execution_count": null,
   "metadata": {},
   "outputs": [
    {
     "data": {
      "text/plain": [
       "tensor([[True, True, True,  ..., True, True, True],\n",
       "        [True, True, True,  ..., True, True, True],\n",
       "        [True, True, True,  ..., True, True, True],\n",
       "        ...,\n",
       "        [True, True, True,  ..., True, True, True],\n",
       "        [True, True, True,  ..., True, True, True],\n",
       "        [True, True, True,  ..., True, True, True]])"
      ]
     },
     "execution_count": null,
     "metadata": {},
     "output_type": "execute_result"
    }
   ],
   "source": [
    "train_mask = (batch['mask_type']==1)\n",
    "train_mask"
   ]
  },
  {
   "cell_type": "markdown",
   "metadata": {},
   "source": [
    "For example, for user number 1 in this batch, the first five interactions belong to the training set, and the remaining belongs to the validation set.\n",
    "We can extract the clicks that belong to the training set by using `mask_type`:"
   ]
  },
  {
   "cell_type": "code",
   "execution_count": null,
   "metadata": {},
   "outputs": [
    {
     "name": "stdout",
     "output_type": "stream",
     "text": [
      "Mask of user 2:\n",
      "tensor([1, 1, 1, 1, 1, 1, 1, 1, 1, 1, 1, 1, 1, 1, 1, 1, 1, 1, 1, 1])\n",
      " \n",
      "Clicks belonging to the training set:\n",
      "tensor([True, True, True, True, True, True, True, True, True, True, True, True,\n",
      "        True, True, True, True, True, True, True, True])\n",
      " \n",
      "Select only the clicks in training dataset:\n"
     ]
    },
    {
     "data": {
      "text/plain": [
       "tensor([ 246058,  522114,  688321,       1,       1,  492102,  342033, 1050842,\n",
       "              1,       1,  878114, 1104893,  581533,       1, 1114863,  191381,\n",
       "         493192,  736750,  693049,  493709])"
      ]
     },
     "execution_count": null,
     "metadata": {},
     "output_type": "execute_result"
    }
   ],
   "source": [
    "print(\"Mask of user 2:\")\n",
    "print(batch['mask_type'][1,])\n",
    "print(\" \")\n",
    "print(\"Clicks belonging to the training set:\")\n",
    "print(train_mask[1,])\n",
    "print(\" \")\n",
    "print(\"Select only the clicks in training dataset:\")\n",
    "batch['click'][1,][train_mask[1,]]"
   ]
  },
  {
   "cell_type": "code",
   "execution_count": null,
   "metadata": {},
   "outputs": [],
   "source": []
  }
 ],
 "metadata": {
  "kernelspec": {
   "display_name": "Python 3.8.8 64-bit ('base': conda)",
   "name": "python3"
  }
 },
 "nbformat": 4,
 "nbformat_minor": 2
}
